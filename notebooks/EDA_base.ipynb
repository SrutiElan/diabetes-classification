{
  "nbformat": 4,
  "nbformat_minor": 0,
  "metadata": {
    "colab": {
      "provenance": [],
      "include_colab_link": true
    },
    "kernelspec": {
      "name": "python3",
      "display_name": "Python 3"
    },
    "language_info": {
      "name": "python"
    }
  },
  "cells": [
    {
      "cell_type": "markdown",
      "metadata": {
        "id": "view-in-github",
        "colab_type": "text"
      },
      "source": [
        "<a href=\"https://colab.research.google.com/github/SrutiElan/diabetes-classification/blob/main/notebooks/EDA_base.ipynb\" target=\"_parent\"><img src=\"https://colab.research.google.com/assets/colab-badge.svg\" alt=\"Open In Colab\"/></a>"
      ]
    },
    {
      "cell_type": "markdown",
      "source": [
        "# Exploratory Data Analysis (EDA) - Diabetes Classification\n",
        "Team: Aiserpants\n",
        "\n",
        "Date: October 26, 2025\n",
        "\n",
        "Objective: Understand the PIMA Dataset + clean it before building models\n",
        "\n",
        "---"
      ],
      "metadata": {
        "id": "dr_H140HWpRS"
      }
    },
    {
      "source": [
        "# IMPORTANT: RUN THIS CELL IN ORDER TO IMPORT YOUR KAGGLE DATA SOURCES,\n",
        "# THEN FEEL FREE TO DELETE THIS CELL.\n",
        "# NOTE: THIS NOTEBOOK ENVIRONMENT DIFFERS FROM KAGGLE'S PYTHON\n",
        "# ENVIRONMENT SO THERE MAY BE MISSING LIBRARIES USED BY YOUR\n",
        "# NOTEBOOK.\n",
        "import kagglehub\n",
        "uciml_pima_indians_diabetes_database_path = kagglehub.dataset_download('uciml/pima-indians-diabetes-database')\n",
        "\n",
        "print('Data source import complete.')\n"
      ],
      "metadata": {
        "id": "odNWy_DQ3G3n"
      },
      "cell_type": "code",
      "outputs": [],
      "execution_count": null
    },
    {
      "cell_type": "code",
      "source": [
        "from mlxtend.plotting import plot_decision_regions\n",
        "import numpy as np\n",
        "import pandas as pd\n",
        "import matplotlib.pyplot as plt\n",
        "import seaborn as sns\n",
        "sns.set()\n",
        "import warnings\n",
        "warnings.filterwarnings('ignore')\n",
        "%matplotlib inline\n",
        "#plt.style.use('ggplot')\n",
        "#ggplot is R based visualisation package that provides better graphics with higher level of abstraction"
      ],
      "metadata": {
        "_cell_guid": "79c7e3d0-c299-4dcb-8224-4455121ee9b0",
        "_uuid": "d629ff2d2480ee46fbb7e2d37f6b5fab8052498a",
        "trusted": true,
        "id": "WoKTLtuK3G3p"
      },
      "outputs": [],
      "execution_count": null
    },
    {
      "cell_type": "markdown",
      "source": [
        "## Basic Data Science and ML Pipeline"
      ],
      "metadata": {
        "_uuid": "fb40452ad5ae975fd33307735fd47c33f1aca999",
        "id": "P0uo2JXW3G3p"
      }
    },
    {
      "cell_type": "markdown",
      "source": [
        "## OSEMN Pipeline\n",
        "* O - Obtaining our data\n",
        "* S - Scrubbing / Cleaning our data\n",
        "* E - Exploring / Visualizing our data will allow us to find patterns and trends\n",
        "* M - Modeling our data will give us our predictive power as a wizard\n",
        "* N - Interpreting our data\n",
        "\n",
        "\n",
        "For reference : https://www.linkedin.com/pulse/life-data-science-osemn-randy-lao/?lipi=urn%3Ali%3Apage%3Ad_flagship3_profile_view_base_post_details%3BmDlg5VsdSBCLBps2R0vRZA%3D%3D"
      ],
      "metadata": {
        "_uuid": "478f0929dd095b53a8e89dcddf7f503dd11203ab",
        "id": "-v79BPf93G3q"
      }
    },
    {
      "cell_type": "code",
      "source": [
        "#Loading the dataset\n",
        "diabetes_data = pd.read_csv('../input/diabetes.csv')\n",
        "\n",
        "#Print the first 5 rows of the dataframe.\n",
        "diabetes_data.head()"
      ],
      "metadata": {
        "_uuid": "3977359aa7f65cc9d96fdf0ede4e99116fb314c6",
        "trusted": true,
        "id": "5sGIimYi3G3q"
      },
      "outputs": [],
      "execution_count": null
    },
    {
      "cell_type": "markdown",
      "source": [
        "## Basic EDA and statistical analysis\n"
      ],
      "metadata": {
        "_uuid": "e19cd0e1959c38d52ed8c437b42f3ccd61e92fb4",
        "id": "RA1FEw2M3G3q"
      }
    },
    {
      "cell_type": "code",
      "source": [
        "## gives information about the data types,columns, null value counts, memory usage etc\n",
        "## function reference : https://pandas.pydata.org/pandas-docs/stable/generated/pandas.DataFrame.info.html\n",
        "diabetes_data.info(verbose=True)"
      ],
      "metadata": {
        "scrolled": true,
        "_uuid": "650e7357fe6d26e6a557cc3088d9b1147b6093ea",
        "trusted": true,
        "id": "WnMS49a13G3q"
      },
      "outputs": [],
      "execution_count": null
    },
    {
      "cell_type": "markdown",
      "source": [
        "**DataFrame.describe()** method generates descriptive statistics that summarize the central tendency, dispersion and shape of a dataset’s distribution, excluding NaN values. This method tells us a lot of things about a dataset. One important thing is that the describe() method deals only with numeric values. It doesn't work with any categorical values. So if there are any categorical values in a column the describe() method will ignore it and display summary for the other columns unless parameter include=\"all\" is passed.\n",
        "\n",
        "Now, let's understand the statistics that are generated by the describe() method:\n",
        "* count tells us the number of NoN-empty rows in a feature.\n",
        "* mean tells us the mean value of that feature.\n",
        "* std tells us the Standard Deviation Value of that feature.\n",
        "* min tells us the minimum value of that feature.\n",
        "* 25%, 50%, and 75% are the percentile/quartile of each features. This quartile information helps us to detect Outliers.\n",
        "* max tells us the maximum value of that feature."
      ],
      "metadata": {
        "_uuid": "4be617d9cdcb165ef3286163a22003877732ad0b",
        "id": "oM9g3-L93G3r"
      }
    },
    {
      "cell_type": "code",
      "source": [
        "## basic statistic details about the data (note only numerical columns would be displayed here unless parameter include=\"all\")\n",
        "## for reference: https://pandas.pydata.org/pandas-docs/stable/generated/pandas.DataFrame.describe.html#pandas.DataFrame.describe\n",
        "diabetes_data.describe()\n",
        "\n",
        "## Also see :\n",
        "##to return columns of a specific dtype: https://pandas.pydata.org/pandas-docs/stable/generated/pandas.DataFrame.select_dtypes.html#pandas.DataFrame.select_dtypes"
      ],
      "metadata": {
        "_uuid": "0682a8c7acbdb75ad600df7b7cd732f4d5b0a17f",
        "trusted": true,
        "id": "De5StkNS3G3r"
      },
      "outputs": [],
      "execution_count": null
    },
    {
      "cell_type": "code",
      "source": [
        "diabetes_data.describe().T"
      ],
      "metadata": {
        "_uuid": "de488e0ee803ee6d4084c92df3f548eb6a051d43",
        "trusted": true,
        "id": "1n4ztnp-3G3r"
      },
      "outputs": [],
      "execution_count": null
    },
    {
      "cell_type": "markdown",
      "source": [
        "### The Question creeping out of this summary\n",
        "\n",
        "#### Can minimum value of below listed columns be zero (0)?\n",
        "\n",
        "On these columns, a value of zero does not make sense and thus indicates missing value.\n",
        "\n",
        "Following columns or variables have an invalid zero value:\n",
        "1. Glucose\n",
        "2. BloodPressure\n",
        "3. SkinThickness\n",
        "4. Insulin\n",
        "5. BMI"
      ],
      "metadata": {
        "_uuid": "1143fa069d6ff7b0c4decda62fa167a7a01b86a1",
        "id": "s30AlXSG3G3r"
      }
    },
    {
      "cell_type": "markdown",
      "source": [
        "#### It is better to replace zeros with nan since after that counting them would be easier and zeros need to be replaced with suitable values"
      ],
      "metadata": {
        "_uuid": "a5c66431403ac1246f52e4256b09b660fc273c25",
        "id": "7aNGGYy13G3r"
      }
    },
    {
      "cell_type": "code",
      "source": [
        "diabetes_data_copy = diabetes_data.copy(deep = True)\n",
        "diabetes_data_copy[['Glucose','BloodPressure','SkinThickness','Insulin','BMI']] = diabetes_data_copy[['Glucose','BloodPressure','SkinThickness','Insulin','BMI']].replace(0,np.NaN)\n",
        "\n",
        "## showing the count of Nans\n",
        "print(diabetes_data_copy.isnull().sum())"
      ],
      "metadata": {
        "_uuid": "506fa58605d641694883cad75bb3683dafdb0356",
        "trusted": true,
        "id": "qLey6gpA3G3s"
      },
      "outputs": [],
      "execution_count": null
    },
    {
      "cell_type": "markdown",
      "source": [
        "#### To fill these Nan values the data distribution needs to be understood"
      ],
      "metadata": {
        "_uuid": "20bf4545b4d80cd00061d08d3cc2206d0b80f376",
        "trusted": true,
        "id": "yxyYWv9q3G3s"
      }
    },
    {
      "cell_type": "code",
      "source": [
        "p = diabetes_data.hist(figsize = (20,20))"
      ],
      "metadata": {
        "_uuid": "d5ef22db6afea0d63189599fb4abbb2b3f53ccb5",
        "trusted": true,
        "id": "jvrQ7r9Z3G3s"
      },
      "outputs": [],
      "execution_count": null
    },
    {
      "cell_type": "markdown",
      "source": [
        "### Aiming to impute nan values for the columns in accordance with their distribution"
      ],
      "metadata": {
        "_uuid": "337635cc5b94f7bf6b1a95f5d4043e67604c2c8a",
        "id": "1MzPknDd3G3s"
      }
    },
    {
      "cell_type": "code",
      "source": [
        "diabetes_data_copy['Glucose'].fillna(diabetes_data_copy['Glucose'].mean(), inplace = True)\n",
        "diabetes_data_copy['BloodPressure'].fillna(diabetes_data_copy['BloodPressure'].mean(), inplace = True)\n",
        "diabetes_data_copy['SkinThickness'].fillna(diabetes_data_copy['SkinThickness'].median(), inplace = True)\n",
        "diabetes_data_copy['Insulin'].fillna(diabetes_data_copy['Insulin'].median(), inplace = True)\n",
        "diabetes_data_copy['BMI'].fillna(diabetes_data_copy['BMI'].median(), inplace = True)"
      ],
      "metadata": {
        "_uuid": "0568a737f6529e711d3e1ffa5493f0fa749efff3",
        "trusted": true,
        "id": "F96lqKUP3G3s"
      },
      "outputs": [],
      "execution_count": null
    },
    {
      "cell_type": "markdown",
      "source": [
        "## Plotting after Nan removal"
      ],
      "metadata": {
        "_uuid": "1bf99a7a106d92072207b4a5071098ac32c03902",
        "id": "zkuSDMVk3G3s"
      }
    },
    {
      "cell_type": "code",
      "source": [
        "p = diabetes_data_copy.hist(figsize = (20,20))"
      ],
      "metadata": {
        "_uuid": "6b54f61be1a5b6fc75a90bfdcdfdb1df18a38594",
        "trusted": true,
        "id": "MUfKwI9G3G3s"
      },
      "outputs": [],
      "execution_count": null
    },
    {
      "cell_type": "markdown",
      "source": [
        "## Skewness\n",
        "\n",
        "A ***left-skewed distribution*** has a long left tail. Left-skewed distributions are also called negatively-skewed distributions. That’s because there is a long tail in the negative direction on the number line. The mean is also to the left of the peak.\n",
        "\n",
        "A ***right-skewed distribution*** has a long right tail. Right-skewed distributions are also called positive-skew distributions. That’s because there is a long tail in the positive direction on the number line. The mean is also to the right of the peak.\n",
        "\n",
        "\n",
        "![](https://www.statisticshowto.datasciencecentral.com/wp-content/uploads/2014/02/pearson-mode-skewness.jpg)\n",
        "\n",
        "\n",
        "#### to learn more about skewness\n",
        "https://www.statisticshowto.datasciencecentral.com/probability-and-statistics/skewed-distribution/"
      ],
      "metadata": {
        "_uuid": "fc09dd32d8cf836fd9afbb8f4d83d47260b89e91",
        "id": "ztXCO7k03G3s"
      }
    },
    {
      "cell_type": "code",
      "source": [
        "## observing the shape of the data\n",
        "diabetes_data.shape"
      ],
      "metadata": {
        "_uuid": "8322614f5de4888d713c0468a43ae2a3eb1b8862",
        "trusted": true,
        "id": "oZ8xphLq3G3s"
      },
      "outputs": [],
      "execution_count": null
    },
    {
      "cell_type": "code",
      "source": [
        "## data type analysis\n",
        "#plt.figure(figsize=(5,5))\n",
        "#sns.set(font_scale=2)\n",
        "sns.countplot(y=diabetes_data.dtypes ,data=diabetes_data)\n",
        "plt.xlabel(\"count of each data type\")\n",
        "plt.ylabel(\"data types\")\n",
        "plt.show()"
      ],
      "metadata": {
        "_uuid": "c69e3cf2bce422520047daa7b02b688e42c197e4",
        "trusted": true,
        "id": "TfFU3tg73G3s"
      },
      "outputs": [],
      "execution_count": null
    },
    {
      "cell_type": "code",
      "source": [
        "## null count analysis\n",
        "import missingno as msno\n",
        "p=msno.bar(diabetes_data)\n"
      ],
      "metadata": {
        "_uuid": "1d5a4e88b691d25e8c661e3e292f5d81d33c576e",
        "trusted": true,
        "id": "e1hO8smg3G3s"
      },
      "outputs": [],
      "execution_count": null
    },
    {
      "cell_type": "code",
      "source": [
        "## checking the balance of the data by plotting the count of outcomes by their value\n",
        "color_wheel = {1: \"#0392cf\",\n",
        "               2: \"#7bc043\"}\n",
        "colors = diabetes_data[\"Outcome\"].map(lambda x: color_wheel.get(x + 1))\n",
        "print(diabetes_data.Outcome.value_counts())\n",
        "p=diabetes_data.Outcome.value_counts().plot(kind=\"bar\")\n"
      ],
      "metadata": {
        "_uuid": "009e21b28bb9fcb64bd0b841d0aa09597b9bbea8",
        "trusted": true,
        "id": "LHi1ulEy3G3s"
      },
      "outputs": [],
      "execution_count": null
    },
    {
      "cell_type": "markdown",
      "source": [
        "#### The above graph shows that the data is biased towards datapoints having outcome value as 0 where it means that diabetes was not present actually. The number of non-diabetics is almost twice the number of diabetic patients"
      ],
      "metadata": {
        "_uuid": "48fd3f1b1b8c38b94d06fb4a4daf4afd592beb15",
        "trusted": true,
        "id": "SeTi9ide3G3s"
      }
    },
    {
      "cell_type": "markdown",
      "source": [
        "#### Scatter matrix of uncleaned data"
      ],
      "metadata": {
        "_uuid": "87dc25ce0f9036237af2b8fb8560d7ba575df22c",
        "id": "C2L7vgNF3G3s"
      }
    },
    {
      "cell_type": "code",
      "source": [
        "from pandas.tools.plotting import scatter_matrix\n",
        "p=scatter_matrix(diabetes_data,figsize=(25, 25))"
      ],
      "metadata": {
        "_uuid": "f100c23bcf63fa58180813ff594dfff591bb20ed",
        "trusted": true,
        "id": "c6mP2C5J3G3t"
      },
      "outputs": [],
      "execution_count": null
    },
    {
      "cell_type": "markdown",
      "source": [
        "###### The pairs plot builds on two basic figures, the histogram and the scatter plot. The histogram on the diagonal allows us to see the distribution of a single variable while the scatter plots on the upper and lower triangles show the relationship (or lack thereof) between two variables.\n",
        "\n",
        "For Reference: https://towardsdatascience.com/visualizing-data-with-pair-plots-in-python-f228cf529166"
      ],
      "metadata": {
        "_uuid": "a2503e0f31903aa2a3522f8c9e0771ea9aff7217",
        "trusted": true,
        "id": "YWmPQPNW3G3t"
      }
    },
    {
      "cell_type": "markdown",
      "source": [
        "#### Pair plot for clean data"
      ],
      "metadata": {
        "_uuid": "47a5993e4001d4ffc0ddf2dd59740045048ba738",
        "id": "y6Pp9C7e3G3t"
      }
    },
    {
      "cell_type": "code",
      "source": [
        "p=sns.pairplot(diabetes_data_copy, hue = 'Outcome')"
      ],
      "metadata": {
        "_uuid": "3adefc9ab47271b11f13687a245df6ced9f1b312",
        "trusted": true,
        "id": "U7p3rdN23G3t"
      },
      "outputs": [],
      "execution_count": null
    },
    {
      "cell_type": "markdown",
      "source": [
        "***Pearson's Correlation Coefficient***: helps you find out the relationship between two quantities. It gives you the measure of the strength of association between two variables. The value of Pearson's Correlation Coefficient can be between -1 to +1. 1 means that they are highly correlated and 0 means no correlation.\n",
        "\n",
        "A heat map is a two-dimensional representation of information with the help of colors. Heat maps can help the user visualize simple or complex information."
      ],
      "metadata": {
        "_uuid": "108b278e68021929a5c8cd186afc4848f1767986",
        "trusted": true,
        "id": "wXXIvSsk3G3t"
      }
    },
    {
      "cell_type": "markdown",
      "source": [
        "#### Heatmap for unclean data"
      ],
      "metadata": {
        "_uuid": "9dbea8e64dd833ce466c5d0585f4d8ad5bbfe8ff",
        "id": "XRJ7mt_H3G3t"
      }
    },
    {
      "cell_type": "code",
      "source": [
        "plt.figure(figsize=(12,10))  # on this line I just set the size of figure to 12 by 10.\n",
        "p=sns.heatmap(diabetes_data.corr(), annot=True,cmap ='RdYlGn')  # seaborn has very simple solution for heatmap"
      ],
      "metadata": {
        "_uuid": "2971ad528058ac82e54eec7b42b814644cef4195",
        "trusted": true,
        "id": "q4hfvxrB3G3t"
      },
      "outputs": [],
      "execution_count": null
    },
    {
      "cell_type": "markdown",
      "source": [
        "#### Heatmap for clean data"
      ],
      "metadata": {
        "_uuid": "a97ddd37b576e90c5cc192bd8ab46a4d44c960af",
        "id": "HDrDb40J3G3t"
      }
    },
    {
      "cell_type": "code",
      "source": [
        "plt.figure(figsize=(12,10))  # on this line I just set the size of figure to 12 by 10.\n",
        "p=sns.heatmap(diabetes_data_copy.corr(), annot=True,cmap ='RdYlGn')  # seaborn has very simple solution for heatmap"
      ],
      "metadata": {
        "_uuid": "0b000ace1a6558c57c0b485c66a5bdb84063174b",
        "trusted": true,
        "id": "sQi3NHg93G3t"
      },
      "outputs": [],
      "execution_count": null
    },
    {
      "cell_type": "markdown",
      "source": [
        "## Scaling the data\n",
        "data Z is rescaled such that μ = 0 and 𝛔 = 1, and is done through this formula:\n",
        "![](https://cdn-images-1.medium.com/max/800/0*PXGPVYIxyI_IEHP7.)\n",
        "\n",
        "\n",
        "#### to learn more about scaling techniques\n",
        "https://medium.com/@rrfd/standardize-or-normalize-examples-in-python-e3f174b65dfc\n",
        "https://machinelearningmastery.com/rescaling-data-for-machine-learning-in-python-with-scikit-learn/"
      ],
      "metadata": {
        "_uuid": "5e5142438fcc7973b722337deb24ba2061e14316",
        "id": "Sw7CW2pc3G3t"
      }
    },
    {
      "cell_type": "code",
      "source": [
        "from sklearn.preprocessing import StandardScaler\n",
        "sc_X = StandardScaler()\n",
        "X =  pd.DataFrame(sc_X.fit_transform(diabetes_data_copy.drop([\"Outcome\"],axis = 1),),\n",
        "        columns=['Pregnancies', 'Glucose', 'BloodPressure', 'SkinThickness', 'Insulin',\n",
        "       'BMI', 'DiabetesPedigreeFunction', 'Age'])"
      ],
      "metadata": {
        "_uuid": "2cf6c9ff22d3a7af35e399406e7565055ca6af36",
        "trusted": true,
        "id": "DnzvLk2r3G3t"
      },
      "outputs": [],
      "execution_count": null
    },
    {
      "cell_type": "code",
      "source": [
        "X.head()"
      ],
      "metadata": {
        "_uuid": "e10c79fe13861fb0fbe714c977f93bb8ed90a5fd",
        "trusted": true,
        "id": "w61-g8783G3t"
      },
      "outputs": [],
      "execution_count": null
    },
    {
      "cell_type": "code",
      "source": [
        "#X = diabetes_data.drop(\"Outcome\",axis = 1)\n",
        "y = diabetes_data_copy.Outcome"
      ],
      "metadata": {
        "_uuid": "9d9bd9ecd9612fb32f0629a8a3c0a85a14b034cf",
        "trusted": true,
        "id": "gyP4iV0b3G3t"
      },
      "outputs": [],
      "execution_count": null
    },
    {
      "cell_type": "markdown",
      "source": [
        "### Why Scaling the data for distance based algorithms like Linear Regression etc?"
      ],
      "metadata": {
        "id": "EQtj3Gbx3G3y"
      }
    },
    {
      "cell_type": "markdown",
      "source": [
        "#### it is always advisable to bring all the features to the same scale for applying distance based algorithms.\n",
        "##### Let's see an example of distance calculation using two features whose magnitudes/ranges vary greatly.\n",
        "Euclidean Distance = [(100000–80000)^2 + (30–25)^2]^(1/2)"
      ],
      "metadata": {
        "id": "UeNJlJ_f3G3y"
      }
    },
    {
      "cell_type": "markdown",
      "source": [
        "#### We can imagine how the feature with greater range with overshadow or dimenish the smaller feature completely and this will impact the performance of all distance based model as it will give higher weightage to variables which have higher magnitude."
      ],
      "metadata": {
        "id": "nfVvn3r83G3y"
      }
    },
    {
      "cell_type": "markdown",
      "source": [
        "## Test Train Split and Cross Validation methods\n",
        "\n",
        "\n",
        "\n",
        "***Train Test Split*** : To have unknown datapoints to test the data rather than testing with the same points with which the model was trained. This helps capture the model performance much better.\n",
        "\n",
        "![](https://cdn-images-1.medium.com/max/1600/1*-8_kogvwmL1H6ooN1A1tsQ.png)\n",
        "\n",
        "***Cross Validation***: When model is split into training and testing it can be possible that specific type of data point may go entirely into either training or testing portion. This would lead the model to perform poorly. Hence over-fitting and underfitting problems can be well avoided with cross validation techniques\n",
        "\n",
        "![](https://cdn-images-1.medium.com/max/1600/1*4G__SV580CxFj78o9yUXuQ.png)\n",
        "\n",
        "\n",
        "***About Stratify*** : Stratify parameter makes a split so that the proportion of values in the sample produced will be the same as the proportion of values provided to parameter stratify.\n",
        "\n",
        "For example, if variable y is a binary categorical variable with values 0 and 1 and there are 25% of zeros and 75% of ones, stratify=y will make sure that your random split has 25% of 0's and 75% of 1's.\n",
        "\n",
        "For Reference : https://towardsdatascience.com/train-test-split-and-cross-validation-in-python-80b61beca4b6"
      ],
      "metadata": {
        "_uuid": "f87d51b88980792d54d8f3ba60c2c7b91d03cad3",
        "trusted": true,
        "id": "KcJDmquI3G3y"
      }
    },
    {
      "cell_type": "markdown",
      "source": [
        "## Model Learning Theory"
      ],
      "metadata": {
        "id": "Y8gmwN5e3G3y"
      }
    },
    {
      "cell_type": "markdown",
      "source": [
        "![image.png](attachment:6204bba3-7b43-4e54-8081-04ae06b1201b.png)![image.png](attachment:f7c1ac11-72fe-4178-b623-8a1722f8358f.png)"
      ],
      "metadata": {
        "id": "1rcbsVOl3G3y"
      }
    },
    {
      "cell_type": "code",
      "source": [
        "#importing train_test_split\n",
        "from sklearn.model_selection import train_test_split\n",
        "X_train,X_test,y_train,y_test = train_test_split(X,y,test_size=1/3,random_state=42, stratify=y)"
      ],
      "metadata": {
        "_uuid": "f14c88ae0a061de30566d336608d195ba89993d9",
        "trusted": true,
        "id": "o18NAADU3G3y"
      },
      "outputs": [],
      "execution_count": null
    },
    {
      "cell_type": "code",
      "source": [
        "from sklearn.neighbors import KNeighborsClassifier\n",
        "\n",
        "\n",
        "test_scores = []\n",
        "train_scores = []\n",
        "\n",
        "for i in range(1,15):\n",
        "\n",
        "    knn = KNeighborsClassifier(i)\n",
        "    knn.fit(X_train,y_train)\n",
        "\n",
        "    train_scores.append(knn.score(X_train,y_train))\n",
        "    test_scores.append(knn.score(X_test,y_test))"
      ],
      "metadata": {
        "_uuid": "a7081050c51df07b8af1cd18c9be61f041a97fb8",
        "trusted": true,
        "id": "NyXa2qZh3G3y"
      },
      "outputs": [],
      "execution_count": null
    },
    {
      "cell_type": "code",
      "source": [
        "## score that comes from testing on the same datapoints that were used for training\n",
        "max_train_score = max(train_scores)\n",
        "train_scores_ind = [i for i, v in enumerate(train_scores) if v == max_train_score]\n",
        "print('Max train score {} % and k = {}'.format(max_train_score*100,list(map(lambda x: x+1, train_scores_ind))))"
      ],
      "metadata": {
        "_uuid": "ee126a72ca24e54ee78bfac94a21dfac1a3edee1",
        "trusted": true,
        "id": "rp_zJhjQ3G3y"
      },
      "outputs": [],
      "execution_count": null
    },
    {
      "cell_type": "code",
      "source": [
        "## score that comes from testing on the datapoints that were split in the beginning to be used for testing solely\n",
        "max_test_score = max(test_scores)\n",
        "test_scores_ind = [i for i, v in enumerate(test_scores) if v == max_test_score]\n",
        "print('Max test score {} % and k = {}'.format(max_test_score*100,list(map(lambda x: x+1, test_scores_ind))))"
      ],
      "metadata": {
        "_uuid": "8bbfda9d066c354f974dcb1180c3348aaa915c4e",
        "trusted": true,
        "id": "ad2NGJNZ3G3y"
      },
      "outputs": [],
      "execution_count": null
    },
    {
      "cell_type": "markdown",
      "source": [
        "## Result Visualisation"
      ],
      "metadata": {
        "_uuid": "fe08768381ea8011d90ae58149c8e41b0a707da2",
        "id": "yqm83ebo3G3z"
      }
    },
    {
      "cell_type": "code",
      "source": [
        "plt.figure(figsize=(12,5))\n",
        "p = sns.lineplot(range(1,15),train_scores,marker='*',label='Train Score')\n",
        "p = sns.lineplot(range(1,15),test_scores,marker='o',label='Test Score')"
      ],
      "metadata": {
        "_uuid": "2a5c0b4fde15148a049fa340a58f5b4fa421e614",
        "trusted": true,
        "id": "UzQFdj4J3G3z"
      },
      "outputs": [],
      "execution_count": null
    },
    {
      "cell_type": "markdown",
      "source": [
        "#### The best result is captured at k = 11 hence 11 is used for the final model"
      ],
      "metadata": {
        "_uuid": "1db31455aba31edc524091fa0914743a284034c5",
        "trusted": true,
        "id": "jyFkIpRU3G3z"
      }
    },
    {
      "cell_type": "code",
      "source": [
        "#Setup a knn classifier with k neighbors\n",
        "knn = KNeighborsClassifier(11)\n",
        "\n",
        "knn.fit(X_train,y_train)\n",
        "knn.score(X_test,y_test)"
      ],
      "metadata": {
        "_uuid": "277c1bb9c48cca13536ac8ba71604818d323fae0",
        "trusted": true,
        "id": "s3DCSCxy3G3z"
      },
      "outputs": [],
      "execution_count": null
    },
    {
      "cell_type": "code",
      "source": [
        "## trying to plot decision boundary"
      ],
      "metadata": {
        "_uuid": "22878f26662e0a863c48cf43030c9e6ab57d98fc",
        "trusted": true,
        "id": "7xs_YfIt3G3z"
      },
      "outputs": [],
      "execution_count": null
    },
    {
      "cell_type": "code",
      "source": [
        "value = 20000\n",
        "width = 20000\n",
        "plot_decision_regions(X.values, y.values, clf=knn, legend=2,\n",
        "                      filler_feature_values={2: value, 3: value, 4: value, 5: value, 6: value, 7: value},\n",
        "                      filler_feature_ranges={2: width, 3: width, 4: width, 5: width, 6: width, 7: width},\n",
        "                      X_highlight=X_test.values)\n",
        "\n",
        "# Adding axes annotations\n",
        "#plt.xlabel('sepal length [cm]')\n",
        "#plt.ylabel('petal length [cm]')\n",
        "plt.title('KNN with Diabetes Data')\n",
        "plt.show()"
      ],
      "metadata": {
        "_uuid": "e67d02ae6dbab28b27cfbd968d3717e406de53bf",
        "trusted": true,
        "id": "EEuW63oz3G3z"
      },
      "outputs": [],
      "execution_count": null
    },
    {
      "cell_type": "markdown",
      "source": [
        "# Model Performance Analysis"
      ],
      "metadata": {
        "_uuid": "ab1e49d83f39a6ddc780c394d3a052b49508c6ac",
        "trusted": true,
        "id": "1kvNAgQj3G3z"
      }
    },
    {
      "cell_type": "markdown",
      "source": [
        "## 1. Confusion Matrix\n",
        "\n",
        "The confusion matrix is a technique used for summarizing the performance of a classification algorithm i.e. it has binary outputs.\n",
        "![](https://cdn-images-1.medium.com/max/1600/0*-GAP6jhtJvt7Bqiv.png)\n",
        "\n",
        "\n",
        "\n",
        "### ***In the famous cancer example***:\n",
        "\n",
        "\n",
        "###### Cases in which the doctor predicted YES (they have the disease), and they do have the disease will be termed as TRUE POSITIVES (TP). The doctor has correctly predicted that the patient has the disease.\n",
        "\n",
        "###### Cases in which the doctor predicted NO (they do not have the disease), and they don’t have the disease will be termed as TRUE NEGATIVES (TN). The doctor has correctly predicted that the patient does not have the disease.\n",
        "\n",
        "###### Cases in which the doctor predicted YES, and they do not have the disease will be termed as FALSE POSITIVES (FP). Also known as “Type I error”.\n",
        "\n",
        "###### Cases in which the doctor predicted NO, and they have the disease will be termed as FALSE NEGATIVES (FN). Also known as “Type II error”.\n",
        "\n",
        "![](https://cdn-images-1.medium.com/max/1600/0*9r99oJ2PTRi4gYF_.jpg)\n",
        "\n",
        "For Reference: https://medium.com/@djocz/confusion-matrix-aint-that-confusing-d29e18403327"
      ],
      "metadata": {
        "_uuid": "0b471c49636c633d40442a208c5983d607e4fa2c",
        "id": "dnzVMOm-3G3z"
      }
    },
    {
      "cell_type": "code",
      "source": [
        "#import confusion_matrix\n",
        "from sklearn.metrics import confusion_matrix\n",
        "#let us get the predictions using the classifier we had fit above\n",
        "y_pred = knn.predict(X_test)\n",
        "confusion_matrix(y_test,y_pred)\n",
        "pd.crosstab(y_test, y_pred, rownames=['True'], colnames=['Predicted'], margins=True)"
      ],
      "metadata": {
        "_uuid": "d09044f60af8405e7334c2062404336d0849e871",
        "trusted": true,
        "id": "_v2ZbpCb3G3z"
      },
      "outputs": [],
      "execution_count": null
    },
    {
      "cell_type": "code",
      "source": [
        "y_pred = knn.predict(X_test)\n",
        "from sklearn import metrics\n",
        "cnf_matrix = metrics.confusion_matrix(y_test, y_pred)\n",
        "p = sns.heatmap(pd.DataFrame(cnf_matrix), annot=True, cmap=\"YlGnBu\" ,fmt='g')\n",
        "plt.title('Confusion matrix', y=1.1)\n",
        "plt.ylabel('Actual label')\n",
        "plt.xlabel('Predicted label')"
      ],
      "metadata": {
        "_uuid": "cb0b2fc2a33afeed856e2b3cc986ffb9e3e3ae7b",
        "trusted": true,
        "id": "atDjmauI3G3z"
      },
      "outputs": [],
      "execution_count": null
    },
    {
      "cell_type": "markdown",
      "source": [
        "## 2. Classification Report\n",
        "\n",
        "Report which includes Precision, Recall and F1-Score.\n",
        "\n",
        "\n",
        "#### Precision Score\n",
        "        TP – True Positives\n",
        "        FP – False Positives\n",
        "\n",
        "        Precision – Accuracy of positive predictions.\n",
        "        Precision = TP/(TP + FP)\n",
        "        \n",
        "   \n",
        "#### Recall Score\n",
        "        FN – False Negatives\n",
        "\n",
        "        Recall(sensitivity or true positive rate): Fraction of positives that were correctly identified.\n",
        "        Recall = TP/(TP+FN)\n",
        "        \n",
        "#### F1 Score\n",
        "        F1 Score (aka F-Score or F-Measure) – A helpful metric for comparing two classifiers.\n",
        "        F1 Score takes into account precision and the recall.\n",
        "        It is created by finding the the harmonic mean of precision and recall.\n",
        "\n",
        "        F1 = 2 x (precision x recall)/(precision + recall)\n",
        "        \n",
        "        \n",
        "        \n",
        "> > ***Precision*** - Precision is the ratio of correctly predicted positive observations to the total predicted positive observations. The question that this metric answer is of all passengers that labeled as survived, how many actually survived? High precision relates to the low false positive rate. We have got 0.788 precision which is pretty good.\n",
        "> >\n",
        "> > Precision = TP/TP+FP\n",
        "> >\n",
        "> > ***Recall (Sensitivity)*** - Recall is the ratio of correctly predicted positive observations to the all observations in actual class - yes. The question recall answers is: Of all the passengers that truly survived, how many did we label? A recall greater than 0.5 is good.\n",
        "> >\n",
        "> > Recall = TP/TP+FN\n",
        "> >\n",
        "> > ***F1 score*** - F1 Score is the weighted average of Precision and Recall. Therefore, this score takes both false positives and false negatives into account. Intuitively it is not as easy to understand as accuracy, but F1 is usually more useful than accuracy, especially if you have an uneven class distribution. Accuracy works best if false positives and false negatives have similar cost. If the cost of false positives and false negatives are very different, it’s better to look at both Precision and Recall.\n",
        "> >\n",
        "> > F1 Score = 2*(Recall * Precision) / (Recall + Precision)\n",
        "        \n",
        "        \n",
        "For Reference: http://joshlawman.com/metrics-classification-report-breakdown-precision-recall-f1/\n",
        "                        : https://blog.exsilio.com/all/accuracy-precision-recall-f1-score-interpretation-of-performance-measures/"
      ],
      "metadata": {
        "_uuid": "893c30414255c296b13d0d421086bb1a24cdd22c",
        "trusted": true,
        "id": "1fFOBk-a3G3z"
      }
    },
    {
      "cell_type": "code",
      "source": [
        "#import classification_report\n",
        "from sklearn.metrics import classification_report\n",
        "print(classification_report(y_test,y_pred))"
      ],
      "metadata": {
        "_uuid": "6ac998149c1f0dd304b807707f0dc44dd2b2ffb3",
        "trusted": true,
        "id": "Te1lypqe3G3z"
      },
      "outputs": [],
      "execution_count": null
    },
    {
      "cell_type": "markdown",
      "source": [
        "## 3. ROC - AUC\n",
        "ROC (Receiver Operating Characteristic) Curve tells us about how good the model can distinguish between two things (e.g If a patient has a disease or no). Better models can accurately distinguish between the two. Whereas, a poor model will have difficulties in distinguishing between the two\n",
        "\n",
        "\n",
        "Well Explained in this video: https://www.youtube.com/watch?v=OAl6eAyP-yo\n",
        "\n"
      ],
      "metadata": {
        "_uuid": "7463f2aa317b5a0398aec869e94b168867ca0f0c",
        "trusted": true,
        "id": "jyig7KsC3G3z"
      }
    },
    {
      "cell_type": "code",
      "source": [
        "from sklearn.metrics import roc_curve\n",
        "y_pred_proba = knn.predict_proba(X_test)[:,1]\n",
        "fpr, tpr, thresholds = roc_curve(y_test, y_pred_proba)"
      ],
      "metadata": {
        "_uuid": "20b2083d2eaf2fca599eb6f2ef8803be0b1ac5d7",
        "trusted": true,
        "id": "RezgxiNh3G3z"
      },
      "outputs": [],
      "execution_count": null
    },
    {
      "cell_type": "code",
      "source": [
        "plt.plot([0,1],[0,1],'k--')\n",
        "plt.plot(fpr,tpr, label='Knn')\n",
        "plt.xlabel('fpr')\n",
        "plt.ylabel('tpr')\n",
        "plt.title('Knn(n_neighbors=11) ROC curve')\n",
        "plt.show()"
      ],
      "metadata": {
        "_uuid": "379eefad0181f1f57ffbb3634ab6d132af17464f",
        "trusted": true,
        "id": "FHrUcnwc3G3z"
      },
      "outputs": [],
      "execution_count": null
    },
    {
      "cell_type": "code",
      "source": [
        "#Area under ROC curve\n",
        "from sklearn.metrics import roc_auc_score\n",
        "roc_auc_score(y_test,y_pred_proba)"
      ],
      "metadata": {
        "_uuid": "6c92773e49532f6133b23d511058202bb77ff2cd",
        "trusted": true,
        "id": "VRAYV90n3G30"
      },
      "outputs": [],
      "execution_count": null
    },
    {
      "cell_type": "markdown",
      "source": [
        "# Hyper Parameter optimization\n",
        "Grid search is an approach to hyperparameter tuning that will methodically build and evaluate a model for each combination of algorithm parameters specified in a grid.\n",
        "\n",
        "Let’s consider the following example:\n",
        "\n",
        "Suppose, a machine learning model X takes hyperparameters a1, a2 and a3. In grid searching, you first define the range of values for each of the hyperparameters a1, a2 and a3. You can think of this as an array of values for each of the hyperparameters. Now the grid search technique will construct many versions of X with all the possible combinations of hyperparameter (a1, a2 and a3) values that you defined in the first place. This range of hyperparameter values is referred to as the grid.\n",
        "\n",
        "Suppose, you defined the grid as:\n",
        "a1 = [0,1,2,3,4,5]\n",
        "a2 = [10,20,30,40,5,60]\n",
        "a3 = [105,105,110,115,120,125]\n",
        "\n",
        "Note that, the array of values of that you are defining for the hyperparameters has to be legitimate in a sense that you cannot supply Floating type values to the array if the hyperparameter only takes Integer values.\n",
        "\n",
        "Now, grid search will begin its process of constructing several versions of X with the grid that you just defined.\n",
        "\n",
        "It will start with the combination of [0,10,105], and it will end with [5,60,125]. It will go through all the intermediate combinations between these two which makes grid search computationally very expensive."
      ],
      "metadata": {
        "_uuid": "016a40668e45c0185ba011dc0f25f20512feabb3",
        "trusted": true,
        "id": "bPzOKu7a3G30"
      }
    },
    {
      "cell_type": "code",
      "source": [
        "#import GridSearchCV\n",
        "from sklearn.model_selection import GridSearchCV\n",
        "#In case of classifier like knn the parameter to be tuned is n_neighbors\n",
        "param_grid = {'n_neighbors':np.arange(1,50)}\n",
        "knn = KNeighborsClassifier()\n",
        "knn_cv= GridSearchCV(knn,param_grid,cv=5)\n",
        "knn_cv.fit(X,y)\n",
        "\n",
        "print(\"Best Score:\" + str(knn_cv.best_score_))\n",
        "print(\"Best Parameters: \" + str(knn_cv.best_params_))"
      ],
      "metadata": {
        "_uuid": "e369c794253b71d3daa1444fb7d11872fb8a110c",
        "trusted": true,
        "id": "EM6rKaKK3G30"
      },
      "outputs": [],
      "execution_count": null
    },
    {
      "cell_type": "markdown",
      "source": [
        "## Set Up + Imports"
      ],
      "metadata": {
        "id": "NJb0Vu0mUYAo"
      }
    },
    {
      "cell_type": "code",
      "execution_count": null,
      "metadata": {
        "colab": {
          "base_uri": "https://localhost:8080/"
        },
        "id": "-qhCWqwvCkgG",
        "outputId": "c7bf2fbc-d58f-4bc2-91ba-dfc061e2abb6"
      },
      "outputs": [
        {
          "output_type": "stream",
          "name": "stdout",
          "text": [
            "Mounted at /content/drive\n"
          ]
        }
      ],
      "source": [
        "from google.colab import drive\n",
        "drive.mount('/content/drive')\n"
      ]
    },
    {
      "cell_type": "code",
      "source": [
        "# Install required libraries\n",
        "!pip install scikit-learn pandas numpy matplotlib seaborn\n",
        "\n",
        "# Imports\n",
        "import pandas as pd\n",
        "import numpy as np\n",
        "import matplotlib.pyplot as plt\n",
        "import seaborn as sns\n",
        "from sklearn.model_selection import train_test_split\n",
        "from sklearn.preprocessing import StandardScaler\n",
        "from sklearn.linear_model import LogisticRegression\n",
        "from sklearn.metrics import accuracy_score, classification_report, confusion_matrix, roc_auc_score, roc_curve\n"
      ],
      "metadata": {
        "colab": {
          "base_uri": "https://localhost:8080/"
        },
        "collapsed": true,
        "id": "R6kxbH6wLsst",
        "outputId": "5c1870ea-5189-4b72-c056-c2577274963f"
      },
      "execution_count": null,
      "outputs": [
        {
          "output_type": "stream",
          "name": "stdout",
          "text": [
            "Requirement already satisfied: scikit-learn in /usr/local/lib/python3.12/dist-packages (1.6.1)\n",
            "Requirement already satisfied: pandas in /usr/local/lib/python3.12/dist-packages (2.2.2)\n",
            "Requirement already satisfied: numpy in /usr/local/lib/python3.12/dist-packages (2.0.2)\n",
            "Requirement already satisfied: matplotlib in /usr/local/lib/python3.12/dist-packages (3.10.0)\n",
            "Requirement already satisfied: seaborn in /usr/local/lib/python3.12/dist-packages (0.13.2)\n",
            "Requirement already satisfied: scipy>=1.6.0 in /usr/local/lib/python3.12/dist-packages (from scikit-learn) (1.16.2)\n",
            "Requirement already satisfied: joblib>=1.2.0 in /usr/local/lib/python3.12/dist-packages (from scikit-learn) (1.5.2)\n",
            "Requirement already satisfied: threadpoolctl>=3.1.0 in /usr/local/lib/python3.12/dist-packages (from scikit-learn) (3.6.0)\n",
            "Requirement already satisfied: python-dateutil>=2.8.2 in /usr/local/lib/python3.12/dist-packages (from pandas) (2.9.0.post0)\n",
            "Requirement already satisfied: pytz>=2020.1 in /usr/local/lib/python3.12/dist-packages (from pandas) (2025.2)\n",
            "Requirement already satisfied: tzdata>=2022.7 in /usr/local/lib/python3.12/dist-packages (from pandas) (2025.2)\n",
            "Requirement already satisfied: contourpy>=1.0.1 in /usr/local/lib/python3.12/dist-packages (from matplotlib) (1.3.3)\n",
            "Requirement already satisfied: cycler>=0.10 in /usr/local/lib/python3.12/dist-packages (from matplotlib) (0.12.1)\n",
            "Requirement already satisfied: fonttools>=4.22.0 in /usr/local/lib/python3.12/dist-packages (from matplotlib) (4.60.1)\n",
            "Requirement already satisfied: kiwisolver>=1.3.1 in /usr/local/lib/python3.12/dist-packages (from matplotlib) (1.4.9)\n",
            "Requirement already satisfied: packaging>=20.0 in /usr/local/lib/python3.12/dist-packages (from matplotlib) (25.0)\n",
            "Requirement already satisfied: pillow>=8 in /usr/local/lib/python3.12/dist-packages (from matplotlib) (11.3.0)\n",
            "Requirement already satisfied: pyparsing>=2.3.1 in /usr/local/lib/python3.12/dist-packages (from matplotlib) (3.2.5)\n",
            "Requirement already satisfied: six>=1.5 in /usr/local/lib/python3.12/dist-packages (from python-dateutil>=2.8.2->pandas) (1.17.0)\n"
          ]
        }
      ]
    },
    {
      "cell_type": "code",
      "source": [
        "url = \"https://raw.githubusercontent.com/jbrownlee/Datasets/master/pima-indians-diabetes.data.csv\"\n",
        "column_names = ['Pregnancies', 'Glucose', 'BloodPressure', 'SkinThickness',\n",
        "                'Insulin', 'BMI', 'DiabetesPedigreeFunction', 'Age', 'Outcome']\n",
        "\n",
        "diabetes_data = pd.read_csv(url, names=column_names)\n",
        "\n",
        "print(diabetes_data.head())\n",
        "print(f\"\\nDataset shape: {diabetes_data.shape}\")"
      ],
      "metadata": {
        "colab": {
          "base_uri": "https://localhost:8080/"
        },
        "id": "KxSPYD39LwXW",
        "outputId": "97762106-5ff6-4652-e27e-e5eddaf7348b"
      },
      "execution_count": null,
      "outputs": [
        {
          "output_type": "stream",
          "name": "stdout",
          "text": [
            "   Pregnancies  Glucose  BloodPressure  SkinThickness  Insulin   BMI  \\\n",
            "0            6      148             72             35        0  33.6   \n",
            "1            1       85             66             29        0  26.6   \n",
            "2            8      183             64              0        0  23.3   \n",
            "3            1       89             66             23       94  28.1   \n",
            "4            0      137             40             35      168  43.1   \n",
            "\n",
            "   DiabetesPedigreeFunction  Age  Outcome  \n",
            "0                     0.627   50        1  \n",
            "1                     0.351   31        0  \n",
            "2                     0.672   32        1  \n",
            "3                     0.167   21        0  \n",
            "4                     2.288   33        1  \n",
            "\n",
            "Dataset shape: (768, 9)\n"
          ]
        }
      ]
    },
    {
      "cell_type": "markdown",
      "source": [
        "## Section off\n",
        "what you are doing!! ex: Load dataset, initial data exploration, target variable analysis, patterns\n",
        "\n",
        "\n",
        "Good practice: commend ALL of your code. I better see that you understand each thing"
      ],
      "metadata": {
        "id": "gak3HRlsUk65"
      }
    },
    {
      "cell_type": "code",
      "source": [],
      "metadata": {
        "id": "yJiq1S_vW5AC"
      },
      "execution_count": null,
      "outputs": []
    }
  ]
}