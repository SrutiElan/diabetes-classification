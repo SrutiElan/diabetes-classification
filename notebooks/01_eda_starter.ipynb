{
 "cells": [
  {
   "cell_type": "markdown",
   "metadata": {},
   "source": [
    "# Exploratory Data Analysis (EDA) - IMDB Sentiment Analysis\n",
    "**Team:** [Your Team Name]\n",
    "\n",
    "**Date:** October 20, 2025\n",
    "\n",
    "**Objective:** Understand the IMDB dataset before building models\n",
    "\n",
    "---"
   ]
  },
  {
   "cell_type": "markdown",
   "metadata": {},
   "source": [
    "## 1. Setup and Imports"
   ]
  },
  {
   "cell_type": "code",
   "execution_count": null,
   "metadata": {},
   "outputs": [],
   "source": [
    "# Mount Google Drive\n",
    "from google.colab import drive\n",
    "drive.mount('/content/drive')"
   ]
  },
  {
   "cell_type": "code",
   "execution_count": null,
   "metadata": {},
   "outputs": [],
   "source": [
    "# Import necessary libraries\n",
    "import pandas as pd\n",
    "import numpy as np\n",
    "import matplotlib.pyplot as plt\n",
    "import seaborn as sns\n",
    "import warnings\n",
    "\n",
    "# Settings\n",
    "warnings.filterwarnings('ignore')\n",
    "sns.set_style('whitegrid')\n",
    "plt.rcParams['figure.figsize'] = (12, 6)\n",
    "\n",
    "print(\"✅ Libraries imported successfully!\")"
   ]
  },
  {
   "cell_type": "markdown",
   "metadata": {},
   "source": [
    "## 2. Load the Dataset\n",
    "\n",
    "**TODO:** Update the path below to match where YOU saved the IMDB dataset"
   ]
  },
  {
   "cell_type": "code",
   "execution_count": null,
   "metadata": {},
   "outputs": [],
   "source": [
    "# Load IMDB dataset\n",
    "# UPDATE THIS PATH!\n",
    "data_path = '/content/drive/MyDrive/sentiment_analysis_project/data/IMDB Dataset.csv'\n",
    "\n",
    "df = pd.read_csv(data_path)\n",
    "\n",
    "print(f\"✅ Dataset loaded successfully!\")\n",
    "print(f\"Shape: {df.shape}\")"
   ]
  },
  {
   "cell_type": "markdown",
   "metadata": {},
   "source": [
    "## 3. Initial Data Exploration\n",
    "\n",
    "**Goal:** Get a first look at what we're working with"
   ]
  },
  {
   "cell_type": "code",
   "execution_count": null,
   "metadata": {},
   "outputs": [],
   "source": [
    "# Display first few rows\n",
    "# TODO: Display the first 5 rows of the dataset\n"
   ]
  },
  {
   "cell_type": "code",
   "execution_count": null,
   "metadata": {},
   "outputs": [],
   "source": [
    "# Get basic information\n",
    "# TODO: Use .info() to check data types and missing values\n"
   ]
  },
  {
   "cell_type": "code",
   "execution_count": null,
   "metadata": {},
   "outputs": [],
   "source": [
    "# Check for missing values\n",
    "# TODO: Check how many null values are in each column\n"
   ]
  },
  {
   "cell_type": "code",
   "execution_count": null,
   "metadata": {},
   "outputs": [],
   "source": [
    "# Check for duplicates\n",
    "# TODO: How many duplicate rows exist?\n"
   ]
  },
  {
   "cell_type": "markdown",
   "metadata": {},
   "source": [
    "## 4. Target Variable Analysis\n",
    "\n",
    "**Goal:** Understand the distribution of sentiments (positive vs negative)"
   ]
  },
  {
   "cell_type": "code",
   "execution_count": null,
   "metadata": {},
   "outputs": [],
   "source": [
    "# Count sentiment distribution\n",
    "# TODO: Use value_counts() to see how many positive vs negative reviews\n"
   ]
  },
  {
   "cell_type": "code",
   "execution_count": null,
   "metadata": {},
   "outputs": [],
   "source": [
    "# Visualize sentiment distribution\n",
    "# TODO: Create a bar plot or count plot\n",
    "# HINT: Use plt.bar() or sns.countplot()\n",
    "\n",
    "plt.title('Sentiment Distribution')\n",
    "plt.xlabel('Sentiment')\n",
    "plt.ylabel('Count')\n",
    "plt.show()"
   ]
  },
  {
   "cell_type": "markdown",
   "metadata": {},
   "source": [
    "**Question:** Is the dataset balanced? Why does this matter?"
   ]
  },
  {
   "cell_type": "markdown",
   "metadata": {},
   "source": [
    "## 5. Text Length Analysis\n",
    "\n",
    "**Goal:** See how long the reviews are (character count and word count)"
   ]
  },
  {
   "cell_type": "code",
   "execution_count": null,
   "metadata": {},
   "outputs": [],
   "source": [
    "# Create new columns for length metrics\n",
    "# TODO: Add a column called 'char_count' that counts characters in each review\n",
    "# HINT: df['review'].apply(len)\n",
    "\n",
    "# TODO: Add a column called 'word_count' that counts words\n",
    "# HINT: df['review'].apply(lambda x: len(x.split()))\n"
   ]
  },
  {
   "cell_type": "code",
   "execution_count": null,
   "metadata": {},
   "outputs": [],
   "source": [
    "# Get statistics on review lengths\n",
    "# TODO: Use .describe() on char_count and word_count\n"
   ]
  },
  {
   "cell_type": "code",
   "execution_count": null,
   "metadata": {},
   "outputs": [],
   "source": [
    "# Visualize word count distribution\n",
    "# TODO: Create a histogram of word counts\n",
    "# HINT: plt.hist() or df['word_count'].hist()\n",
    "\n",
    "plt.title('Distribution of Review Lengths (Word Count)')\n",
    "plt.xlabel('Number of Words')\n",
    "plt.ylabel('Frequency')\n",
    "plt.show()"
   ]
  },
  {
   "cell_type": "code",
   "execution_count": null,
   "metadata": {},
   "outputs": [],
   "source": [
    "# Compare lengths between positive and negative reviews\n",
    "# TODO: Create a box plot comparing word counts by sentiment\n",
    "# HINT: sns.boxplot(data=df, x='sentiment', y='word_count')\n",
    "\n",
    "plt.title('Word Count by Sentiment')\n",
    "plt.show()"
   ]
  },
  {
   "cell_type": "markdown",
   "metadata": {},
   "source": [
    "**Question:** Do positive or negative reviews tend to be longer? Why might this be?"
   ]
  },
  {
   "cell_type": "markdown",
   "metadata": {},
   "source": [
    "## 6. Sample Reviews\n",
    "\n",
    "**Goal:** Read actual reviews to get intuition about the data"
   ]
  },
  {
   "cell_type": "code",
   "execution_count": null,
   "metadata": {},
   "outputs": [],
   "source": [
    "# Display 3 random positive reviews\n",
    "print(\"=== POSITIVE REVIEWS ===\")\n",
    "# TODO: Sample 3 positive reviews and display them\n",
    "# HINT: df[df['sentiment'] == 'positive'].sample(3)\n"
   ]
  },
  {
   "cell_type": "code",
   "execution_count": null,
   "metadata": {},
   "outputs": [],
   "source": [
    "# Display 3 random negative reviews\n",
    "print(\"=== NEGATIVE REVIEWS ===\")\n",
    "# TODO: Sample 3 negative reviews and display them\n"
   ]
  },
  {
   "cell_type": "markdown",
   "metadata": {},
   "source": [
    "## 7. Text Patterns (OPTIONAL - Advanced)\n",
    "\n",
    "If you finish early, try these explorations:"
   ]
  },
  {
   "cell_type": "code",
   "execution_count": null,
   "metadata": {},
   "outputs": [],
   "source": [
    "# Check for HTML tags (IMDB reviews sometimes have <br /> tags)\n",
    "# TODO: See if any reviews contain '<br />'\n",
    "# HINT: df['review'].str.contains('<br />')\n"
   ]
  },
  {
   "cell_type": "code",
   "execution_count": null,
   "metadata": {},
   "outputs": [],
   "source": [
    "# Most common words (simple version)\n",
    "from collections import Counter\n",
    "\n",
    "# Combine all reviews into one big string\n",
    "all_text = ' '.join(df['review']).lower()\n",
    "words = all_text.split()\n",
    "\n",
    "# Get 20 most common words\n",
    "word_counts = Counter(words).most_common(20)\n",
    "print(\"20 Most Common Words:\")\n",
    "for word, count in word_counts:\n",
    "    print(f\"{word}: {count}\")"
   ]
  },
  {
   "cell_type": "markdown",
   "metadata": {},
   "source": [
    "## 8. Your Insights\n",
    "\n",
    "**TODO:** Based on your exploration, write down 3 interesting observations about the dataset:\n",
    "\n",
    "1. \n",
    "\n",
    "2. \n",
    "\n",
    "3. \n",
    "\n",
    "---\n",
    "\n",
    "**Next Steps:**\n",
    "- Week 2: Clean the text data and build baseline models (Logistic Regression, Naive Bayes)\n",
    "- Save any important findings to share with the team!"
   ]
  }
 ],
 "metadata": {
  "kernelspec": {
   "display_name": "Python 3",
   "language": "python",
   "name": "python3"
  },
  "language_info": {
   "name": "python",
   "version": "3.10.0"
  }
 },
 "nbformat": 4,
 "nbformat_minor": 2
}
