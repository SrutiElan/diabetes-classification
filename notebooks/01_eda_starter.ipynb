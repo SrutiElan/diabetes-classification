{
 "cells": [
  {
   "cell_type": "markdown",
   "metadata": {},
   "source": [
    "# Week 1: Exploratory Data Analysis (EDA)\n",
    "## Google Play Store Reviews - Sentiment Analysis\n",
    "\n",
    "**Team:** [Your Team Name]\n",
    "\n",
    "**Date:** October 2025\n",
    "\n",
    "**Goal:** Understand the dataset before building models\n",
    "\n",
    "---\n",
    "\n",
    "## What is EDA?\n",
    "Exploratory Data Analysis is like being a detective 🔍. Before building models, we need to:\n",
    "- Understand what data we have\n",
    "- Find patterns and anomalies\n",
    "- Check for data quality issues\n",
    "- Visualize distributions\n",
    "\n",
    "---"
   ]
  },
  {
   "cell_type": "markdown",
   "metadata": {},
   "source": [
    "## Step 1: Setup - Mount Google Drive\n",
    "\n",
    "This connects Colab to your Google Drive so we can access the dataset."
   ]
  },
  {
   "cell_type": "code",
   "execution_count": null,
   "metadata": {},
   "outputs": [],
   "source": [
    "# Mount Google Drive\n",
    "from google.colab import drive\n",
    "drive.mount('/content/drive')\n",
    "\n",
    "# You should see: \"Mounted at /content/drive\""
   ]
  },
  {
   "cell_type": "markdown",
   "metadata": {},
   "source": [
    "## Step 2: Import Libraries\n",
    "\n",
    "These are tools we'll use for data analysis and visualization."
   ]
  },
  {
   "cell_type": "code",
   "execution_count": null,
   "metadata": {},
   "outputs": [],
   "source": [
    "# Data manipulation\n",
    "import pandas as pd\n",
    "import numpy as np\n",
    "\n",
    "# Visualization\n",
    "import matplotlib.pyplot as plt\n",
    "import seaborn as sns\n",
    "\n",
    "# Text processing (we'll use later)\n",
    "import re\n",
    "from collections import Counter\n",
    "\n",
    "# Settings\n",
    "import warnings\n",
    "warnings.filterwarnings('ignore')  # Hide warning messages\n",
    "sns.set_style('whitegrid')  # Pretty plots\n",
    "plt.rcParams['figure.figsize'] = (10, 6)  # Default plot size\n",
    "\n",
    "print(\"✅ All libraries imported successfully!\")"
   ]
  },
  {
   "cell_type": "markdown",
   "metadata": {},
   "source": [
    "## Step 3: Load the Dataset\n",
    "\n",
    "**⚠️ IMPORTANT:** Update the path below to match YOUR Google Drive structure!"
   ]
  },
  {
   "cell_type": "code",
   "execution_count": null,
   "metadata": {},
   "outputs": [],
   "source": [
    "# Path to your dataset\n",
    "# UPDATE THIS PATH if your folder structure is different!\n",
    "data_path = '/content/drive/MyDrive/Sentiment_Analysis_Project/data/google-playstore-reviews.csv'\n",
    "\n",
    "# Load the CSV\n",
    "df = pd.read_csv(data_path)\n",
    "\n",
    "print(f\"✅ Dataset loaded successfully!\")\n",
    "print(f\"Shape: {df.shape[0]} rows, {df.shape[1]} columns\")"
   ]
  },
  {
   "cell_type": "markdown",
   "metadata": {},
   "source": [
    "## Step 4: Initial Data Inspection\n",
    "\n",
    "Let's see what we're working with!"
   ]
  },
  {
   "cell_type": "code",
   "execution_count": null,
   "metadata": {},
   "outputs": [],
   "source": [
    "# Display first 5 rows\n",
    "df.head()"
   ]
  },
  {
   "cell_type": "markdown",
   "metadata": {},
   "source": [
    "**Question:** What columns do we have? What do you think each one means?"
   ]
  },
  {
   "cell_type": "code",
   "execution_count": null,
   "metadata": {},
   "outputs": [],
   "source": [
    "# Get detailed information about the dataset\n",
    "df.info()\n",
    "\n",
    "# This shows:\n",
    "# - Number of entries (rows)\n",
    "# - Column names and data types\n",
    "# - Non-null counts (missing data check)"
   ]
  },
  {
   "cell_type": "code",
   "execution_count": null,
   "metadata": {},
   "outputs": [],
   "source": [
    "# Check column names\n",
    "print(\"Column names:\")\n",
    "print(df.columns.tolist())"
   ]
  },
  {
   "cell_type": "code",
   "execution_count": null,
   "metadata": {},
   "outputs": [],
   "source": [
    "# TODO: Check for missing values in each column\n",
    "# HINT: Use df.isnull().sum()\n",
    "\n"
   ]
  },
  {
   "cell_type": "code",
   "execution_count": null,
   "metadata": {},
   "outputs": [],
   "source": [
    "# TODO: Check for duplicate rows\n",
    "# HINT: Use df.duplicated().sum()\n",
    "\n"
   ]
  },
  {
   "cell_type": "markdown",
   "metadata": {},
   "source": [
    "## Step 5: Understanding the Target Variable (Sentiment)\n",
    "\n",
    "The 'polarity' column is what we want to predict:\n",
    "- **0 = Negative review**\n",
    "- **1 = Positive review**"
   ]
  },
  {
   "cell_type": "code",
   "execution_count": null,
   "metadata": {},
   "outputs": [],
   "source": [
    "# Count how many positive vs negative reviews\n",
    "print(\"Sentiment Distribution:\")\n",
    "print(df['polarity'].value_counts())\n",
    "print()\n",
    "\n",
    "# Show as percentages\n",
    "print(\"As percentages:\")\n",
    "print(df['polarity'].value_counts(normalize=True) * 100)"
   ]
  },
  {
   "cell_type": "code",
   "execution_count": null,
   "metadata": {},
   "outputs": [],
   "source": [
    "# TODO: Visualize the sentiment distribution with a bar plot\n",
    "# HINT: df['polarity'].value_counts().plot
